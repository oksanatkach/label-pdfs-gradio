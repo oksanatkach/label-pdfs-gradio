{
 "cells": [
  {
   "cell_type": "code",
   "execution_count": 3,
   "id": "f06cde8a-dbcb-46a1-89aa-ae8e4e904344",
   "metadata": {},
   "outputs": [],
   "source": [
    "from img_outputter_class import ImageOutputter\n",
    "import gradio as gr\n",
    "from functools import partial"
   ]
  },
  {
   "cell_type": "code",
   "execution_count": 4,
   "id": "99a4b876-0385-4cb8-a239-0883a5cf621a",
   "metadata": {},
   "outputs": [],
   "source": [
    "medical_files_path = 'file_names.txt'\n",
    "labels_path = 'labelling_results/labels.jsonl'\n",
    "errors_path = 'labelling_results/errors.jsonl'\n",
    "skip_path = 'labelling_results/skipped.jsonl'"
   ]
  },
  {
   "cell_type": "code",
   "execution_count": 6,
   "id": "f7be98e2-dcdf-4f37-b12e-6173a8f2706e",
   "metadata": {},
   "outputs": [],
   "source": [
    "PDF = ImageOutputter(medical_files_path, labels_path, errors_path, skip_path)"
   ]
  },
  {
   "cell_type": "code",
   "execution_count": 7,
   "id": "d8bda5d9-4a94-4c27-9545-14dfe0100142",
   "metadata": {},
   "outputs": [],
   "source": [
    "demo = gr.Blocks()\n",
    "with demo:\n",
    "    with gr.Row():\n",
    "        with gr.Column():\n",
    "            idx, doc, page, doc_image = PDF.get_next()\n",
    "\n",
    "        with gr.Column():\n",
    "            class1_btn = gr.Button(\"Class 1\")\n",
    "            class2_btn = gr.Button(\"Class 2\")\n",
    "            class3_btn = gr.Button(\"Class 3\")\n",
    "            class4_btn = gr.Button(\"Class 4\")\n",
    "            class5_btn = gr.Button(\"Class 5\")\n",
    "            gr.Textbox('Other actions:')\n",
    "            dupe_btn = gr.Button(\"Duplicate\")\n",
    "            empty_btn = gr.Button(\"Empty\")\n",
    "            skip_page_btn = gr.Button(\"Skip page\")\n",
    "            skip_file_btn = gr.Button(\"Skip file\")\n",
    "            with gr.Row():\n",
    "                prev_page_btn = gr.Button(\"<\")\n",
    "                next_page_btn = gr.Button(\">\")\n",
    "\n",
    "    # classes\n",
    "    btn_to_class = {\n",
    "        class1_btn: \"class_1\",\n",
    "        class2_btn: \"class_2\",\n",
    "        class3_btn: \"class_3\",\n",
    "        class4_btn: \"class_4\",\n",
    "        class5_btn: \"class_5\"\n",
    "    }\n",
    "\n",
    "    outputs = [idx, doc, page, doc_image]\n",
    "    for btn in btn_to_class:\n",
    "        btn.click(fn=partial(PDF.record_label, doc_class=btn_to_class[btn]),\n",
    "                  outputs=outputs)\n",
    "\n",
    "    # other actions\n",
    "    dupe_btn.click(fn=partial(PDF.record_error, error_type='dupe'),\n",
    "                   outputs=outputs)\n",
    "\n",
    "    empty_btn.click(fn=partial(PDF.record_error, error_type='empty'),\n",
    "                    outputs=outputs)\n",
    "\n",
    "    skip_page_btn.click(fn=PDF.skip_page,\n",
    "                        outputs=outputs)\n",
    "\n",
    "    skip_file_btn.click(fn=PDF.skip_file,\n",
    "                        outputs=outputs)\n",
    "\n",
    "    prev_page_btn.click(fn=PDF.to_prev_page,\n",
    "                        outputs=outputs)\n",
    "\n",
    "    next_page_btn.click(fn=PDF.to_next_page,\n",
    "                        outputs=outputs)"
   ]
  },
  {
   "cell_type": "code",
   "execution_count": 8,
   "id": "885461be-ce82-459b-a165-7737675195a9",
   "metadata": {},
   "outputs": [
    {
     "name": "stdout",
     "output_type": "stream",
     "text": [
      "Running on local URL:  http://127.0.0.1:7860\n",
      "Running on public URL: https://d2bfa54dc968d31c54.gradio.live\n",
      "\n",
      "This share link expires in 72 hours. For free permanent hosting and GPU upgrades, run `gradio deploy` from Terminal to deploy to Spaces (https://huggingface.co/spaces)\n"
     ]
    },
    {
     "data": {
      "text/html": [
       "<div><iframe src=\"https://d2bfa54dc968d31c54.gradio.live\" width=\"100%\" height=\"500\" allow=\"autoplay; camera; microphone; clipboard-read; clipboard-write;\" frameborder=\"0\" allowfullscreen></iframe></div>"
      ],
      "text/plain": [
       "<IPython.core.display.HTML object>"
      ]
     },
     "metadata": {},
     "output_type": "display_data"
    },
    {
     "name": "stdout",
     "output_type": "stream",
     "text": [
      "Keyboard interruption in main thread... closing server.\n",
      "Killing tunnel 127.0.0.1:7860 <> https://d2bfa54dc968d31c54.gradio.live\n"
     ]
    },
    {
     "data": {
      "text/plain": []
     },
     "execution_count": 8,
     "metadata": {},
     "output_type": "execute_result"
    }
   ],
   "source": [
    "demo.launch(debug=True, show_error=True, share=True)"
   ]
  },
  {
   "cell_type": "code",
   "execution_count": null,
   "id": "e2c1e207-8a9b-4c41-b890-d3b2bbc0bef5",
   "metadata": {},
   "outputs": [],
   "source": []
  }
 ],
 "metadata": {
  "kernelspec": {
   "display_name": "azure_env",
   "language": "python",
   "name": "azure_env"
  },
  "language_info": {
   "codemirror_mode": {
    "name": "ipython",
    "version": 3
   },
   "file_extension": ".py",
   "mimetype": "text/x-python",
   "name": "python",
   "nbconvert_exporter": "python",
   "pygments_lexer": "ipython3",
   "version": "3.11.6"
  }
 },
 "nbformat": 4,
 "nbformat_minor": 5
}
